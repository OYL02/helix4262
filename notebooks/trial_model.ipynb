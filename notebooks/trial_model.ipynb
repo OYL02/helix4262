{
 "cells": [
  {
   "cell_type": "markdown",
   "metadata": {},
   "source": [
    "Datasets information:\n",
    "\n",
    "data.info.labelled is a labelled file type consisting of labelled genomics data of the following columns in sequence:\n",
    "- gene_id,transcript_id,transcript_position,label\n",
    "- example: ENSG00000004059,ENST00000000233,244,0\n",
    "* 0 refers to no m6A modification at site (position), 1 refers to m6A modification at site (posiiton)\n",
    "\n",
    "mean_aggregated.csv is csv file type containing aggregated genomics data by mean over 3 positions in a single read, the following columns in sequence:\n",
    "- transcript_name,json_position,nucleotide_seq,dwelling_time_merged,sd_merged,mean_merged\n",
    "- example: ENST00000000233,244,AAGACCA,0.009996666666666666,7.786666666666666,110.36666666666667\n",
    "* json_position <-> transcript position\n",
    "* transcript_name <-> transcript_id\n"
   ]
  },
  {
   "cell_type": "markdown",
   "metadata": {},
   "source": [
    "1. Loading required libraries"
   ]
  },
  {
   "cell_type": "code",
   "execution_count": 19,
   "metadata": {},
   "outputs": [],
   "source": [
    "#!pip install matplotlib\n",
    "import matplotlib.pyplot as plt\n",
    "import numpy as np\n",
    "import pandas as pd\n",
    "#!pip install seaborn\n",
    "import seaborn as sns\n",
    "#!pip install scikit-learn\n",
    "from sklearn.model_selection import train_test_split\n",
    "from sklearn.linear_model import LogisticRegression\n",
    "from sklearn import metrics\n",
    "from sklearn.metrics import classification_report\n",
    "from sklearn.model_selection import GroupShuffleSplit\n",
    "from sklearn import metrics"
   ]
  },
  {
   "cell_type": "markdown",
   "metadata": {},
   "source": [
    "2. Read in data"
   ]
  },
  {
   "cell_type": "code",
   "execution_count": 85,
   "metadata": {},
   "outputs": [
    {
     "name": "stdout",
     "output_type": "stream",
     "text": [
      "Index(['transcript_id', 'transcript_position', 'nucleotide_seq',\n",
      "       'dwelling_time_merged', 'sd_merged', 'mean_merged'],\n",
      "      dtype='object')\n"
     ]
    }
   ],
   "source": [
    "#reading in data files (labelled, and dataset)\n",
    "labelled = pd.read_csv(\"data.info.labelled\")\n",
    "\n",
    "# for mean, median aggregated csv\n",
    "# agg_data = pd.read_csv(\"median_aggregated.csv\", header=0, names=[\"transcript_id\",\"transcript_position\", \"nucleotide_seq\",\"dwelling_time_merged\",\"sd_merged\",\"mean_merged\"])\n",
    "\n",
    "# for weighted aggregated data, used only weighted values\n",
    "agg_data = pd.read_csv(\"weighted_aggregated.csv\", header=0, names=[\"transcript_id\",\"transcript_position\", \"nucleotide_seq\", \"d\", \"s\", \"m\", \"dwelling_time_merged\",\"sd_merged\",\"mean_merged\"])\n",
    "agg_data = agg_data.drop([\"d\",\"s\",\"m\"], axis=1)\n",
    "print(agg_data.columns)"
   ]
  },
  {
   "cell_type": "code",
   "execution_count": null,
   "metadata": {},
   "outputs": [],
   "source": [
    "# mean_agg_data.head"
   ]
  },
  {
   "cell_type": "code",
   "execution_count": 86,
   "metadata": {},
   "outputs": [
    {
     "name": "stdout",
     "output_type": "stream",
     "text": [
      "label\n",
      "0    116363\n",
      "1      5475\n",
      "Name: count, dtype: int64\n",
      "label\n",
      "0    0.955063\n",
      "1    0.044937\n",
      "Name: proportion, dtype: float64\n"
     ]
    },
    {
     "data": {
      "text/plain": [
       "<Axes: title={'center': 'Label Distribution'}, xlabel='label'>"
      ]
     },
     "execution_count": 86,
     "metadata": {},
     "output_type": "execute_result"
    },
    {
     "data": {
      "image/png": "[encoded data removed]",
      "text/plain": [
       "<Figure size 640x480 with 1 Axes>"
      ]
     },
     "metadata": {},
     "output_type": "display_data"
    }
   ],
   "source": [
    "# Check the distribution of labels in labelled file \n",
    "label_dist = labelled['label'].value_counts()\n",
    "print(label_dist)\n",
    "\n",
    "# distribution of labels as percentage\n",
    "label_dist_percentage = labelled['label'].value_counts(normalize = True)\n",
    "print(label_dist_percentage)\n",
    "\n",
    "# visualize the distribution using a bar plot\n",
    "label_dist.plot(kind='bar', title='Label Distribution')"
   ]
  },
  {
   "cell_type": "markdown",
   "metadata": {},
   "source": [
    "3. Merging labelled with mean_agg_data"
   ]
  },
  {
   "cell_type": "code",
   "execution_count": 87,
   "metadata": {},
   "outputs": [],
   "source": [
    "merged_data = pd.merge(agg_data, labelled, how='left', on=[\"transcript_id\",\"transcript_position\"])"
   ]
  },
  {
   "cell_type": "code",
   "execution_count": null,
   "metadata": {},
   "outputs": [],
   "source": [
    "# merged_data.head"
   ]
  },
  {
   "cell_type": "markdown",
   "metadata": {},
   "source": [
    "Look at the imbalance of labels in the merged dataframe:\n",
    "proportion of labels same as before merged"
   ]
  },
  {
   "cell_type": "code",
   "execution_count": 88,
   "metadata": {},
   "outputs": [
    {
     "name": "stdout",
     "output_type": "stream",
     "text": [
      "label\n",
      "0    10527532\n",
      "1      499574\n",
      "Name: count, dtype: int64\n",
      "label\n",
      "0    0.954696\n",
      "1    0.045304\n",
      "Name: proportion, dtype: float64\n"
     ]
    },
    {
     "data": {
      "text/plain": [
       "<Axes: title={'center': 'Label Distribution'}, xlabel='label'>"
      ]
     },
     "execution_count": 88,
     "metadata": {},
     "output_type": "execute_result"
    },
    {
     "data": {
      "image/png": "[encoded data removed]",
      "text/plain": [
       "<Figure size 640x480 with 1 Axes>"
      ]
     },
     "metadata": {},
     "output_type": "display_data"
    }
   ],
   "source": [
    "# Check the distribution of labels in labelled file \n",
    "label_dist = merged_data['label'].value_counts()\n",
    "print(label_dist)\n",
    "\n",
    "# distribution of labels as percentage\n",
    "label_dist_percentage = merged_data['label'].value_counts(normalize = True)\n",
    "print(label_dist_percentage)\n",
    "\n",
    "# visualize the distribution using a bar plot\n",
    "label_dist.plot(kind='bar', title='Label Distribution')"
   ]
  },
  {
   "cell_type": "markdown",
   "metadata": {},
   "source": [
    "4. Train, test split of merged_data\n",
    "- splitting should be done based on genes and not transcript"
   ]
  },
  {
   "cell_type": "code",
   "execution_count": 89,
   "metadata": {},
   "outputs": [],
   "source": [
    "# split by gene\n",
    "x = merged_data.drop('label', axis=1)\n",
    "y = merged_data.label\n",
    "\n",
    "gss = GroupShuffleSplit(n_splits=2, random_state=0)\n",
    "x_train_i, x_test_i = next(gss.split(x,y,groups=x.gene_id))\n",
    "\n",
    "x_train = x.loc[x_train_i]\n",
    "y_train = y.loc[x_train_i]\n",
    "\n",
    "x_test = x.loc[x_test_i]\n",
    "y_test = y.loc[x_test_i]"
   ]
  },
  {
   "cell_type": "code",
   "execution_count": 38,
   "metadata": {},
   "outputs": [
    {
     "name": "stdout",
     "output_type": "stream",
     "text": [
      "3081\n",
      "771\n"
     ]
    }
   ],
   "source": [
    "# print(np.unique(x_train.gene_id).size) #number of unique gene ids in train\n",
    "# print(np.unique(x_test.gene_id).size) #number of unique gene ids in test"
   ]
  },
  {
   "cell_type": "code",
   "execution_count": 90,
   "metadata": {},
   "outputs": [
    {
     "name": "stdout",
     "output_type": "stream",
     "text": [
      "{'transcript_id', 'dwelling_time_merged', 'nucleotide_seq', 'transcript_position', 'gene_id', 'mean_merged', 'sd_merged'}\n"
     ]
    }
   ],
   "source": [
    "# intiating sets to check if unique ids in train and test\n",
    "x_train_set = set(x_train)\n",
    "x_test_set = set(x_test)\n",
    "print(set.intersection(x_train_set, x_test_set))"
   ]
  },
  {
   "cell_type": "code",
   "execution_count": 75,
   "metadata": {},
   "outputs": [
    {
     "data": {
      "text/plain": [
       "Index(['transcript_id', 'transcript_position', 'nucleotide_seq',\n",
       "       'dwelling_time_merged', 'sd_merged', 'mean_merged', 'gene_id'],\n",
       "      dtype='object')"
      ]
     },
     "execution_count": 75,
     "metadata": {},
     "output_type": "execute_result"
    }
   ],
   "source": [
    "#x_train.columns"
   ]
  },
  {
   "cell_type": "code",
   "execution_count": 76,
   "metadata": {},
   "outputs": [],
   "source": [
    "#print(x_train.loc[:, [1, \"dwelling_time_merged\", \"sd_merged\", \"mean_merged\"]].head)"
   ]
  },
  {
   "cell_type": "code",
   "execution_count": null,
   "metadata": {},
   "outputs": [],
   "source": [
    "5. Model"
   ]
  },
  {
   "cell_type": "code",
   "execution_count": 91,
   "metadata": {},
   "outputs": [],
   "source": [
    "# logistic regression model\n",
    "\n",
    "# instantiate\n",
    "logreg = LogisticRegression()\n",
    "\n",
    "# fit model with data, selected following variables: \"transcript_position\", \"dwelling_time_merged\", \"sd_merged\", \"mean_merged\"\n",
    "\n",
    "logreg.fit(x_train.loc[:, [\"transcript_position\", \"dwelling_time_merged\", \"sd_merged\", \"mean_merged\"]], y_train)\n",
    "\n",
    "y_pred = logreg.predict(x_test.loc[:, [\"transcript_position\", \"dwelling_time_merged\", \"sd_merged\", \"mean_merged\"]])\n",
    "y_pred_prob = logreg.predict_proba(x_test.loc[:, [\"transcript_position\", \"dwelling_time_merged\", \"sd_merged\", \"mean_merged\"]])"
   ]
  },
  {
   "cell_type": "code",
   "execution_count": 93,
   "metadata": {},
   "outputs": [
    {
     "name": "stdout",
     "output_type": "stream",
     "text": [
      "[[0.95253977 0.04746023]\n",
      " [0.93029658 0.06970342]]\n"
     ]
    }
   ],
   "source": [
    "print(y_pred_prob[0:2]) #shows prob of classes 0, 1 respectively"
   ]
  },
  {
   "cell_type": "markdown",
   "metadata": {},
   "source": [
    "6. Evaluation metrics"
   ]
  },
  {
   "cell_type": "code",
   "execution_count": 94,
   "metadata": {},
   "outputs": [
    {
     "name": "stderr",
     "output_type": "stream",
     "text": [
      "c:\\Users\\yilin\\AppData\\Local\\Programs\\Python\\Python311\\Lib\\site-packages\\sklearn\\metrics\\_classification.py:1531: UndefinedMetricWarning: Precision is ill-defined and being set to 0.0 in labels with no predicted samples. Use `zero_division` parameter to control this behavior.\n",
      "  _warn_prf(average, modifier, f\"{metric.capitalize()} is\", len(result))\n",
      "c:\\Users\\yilin\\AppData\\Local\\Programs\\Python\\Python311\\Lib\\site-packages\\sklearn\\metrics\\_classification.py:1531: UndefinedMetricWarning: Precision is ill-defined and being set to 0.0 in labels with no predicted samples. Use `zero_division` parameter to control this behavior.\n",
      "  _warn_prf(average, modifier, f\"{metric.capitalize()} is\", len(result))\n"
     ]
    },
    {
     "name": "stdout",
     "output_type": "stream",
     "text": [
      "                     precision    recall  f1-score   support\n",
      "\n",
      "no m6a modification       0.95      1.00      0.98   1925773\n",
      "   m6a modification       0.00      0.00      0.00     95698\n",
      "\n",
      "           accuracy                           0.95   2021471\n",
      "          macro avg       0.48      0.50      0.49   2021471\n",
      "       weighted avg       0.91      0.95      0.93   2021471\n",
      "\n"
     ]
    },
    {
     "name": "stderr",
     "output_type": "stream",
     "text": [
      "c:\\Users\\yilin\\AppData\\Local\\Programs\\Python\\Python311\\Lib\\site-packages\\sklearn\\metrics\\_classification.py:1531: UndefinedMetricWarning: Precision is ill-defined and being set to 0.0 in labels with no predicted samples. Use `zero_division` parameter to control this behavior.\n",
      "  _warn_prf(average, modifier, f\"{metric.capitalize()} is\", len(result))\n"
     ]
    }
   ],
   "source": [
    "# print(classification_report(y_test, y_pred))\n",
    "\n",
    "target_names = ['no m6a modification', 'm6a modification'] # labels 0, 1\n",
    "print(classification_report(y_test, y_pred, target_names=target_names))"
   ]
  },
  {
   "cell_type": "code",
   "execution_count": 96,
   "metadata": {},
   "outputs": [
    {
     "data": {
      "text/plain": [
       "Text(0.5, 427.9555555555555, 'Predicted label')"
      ]
     },
     "execution_count": 96,
     "metadata": {},
     "output_type": "execute_result"
    },
    {
     "data": {
      "image/png": "[encoded data removed]",
      "text/plain": [
       "<Figure size 640x480 with 2 Axes>"
      ]
     },
     "metadata": {},
     "output_type": "display_data"
    }
   ],
   "source": [
    "# plotting confusion matrix\n",
    "cnf_matrix = metrics.confusion_matrix(y_test, y_pred)\n",
    "\n",
    "class_names=[0,1] # name  of classes\n",
    "fig, ax = plt.subplots()\n",
    "tick_marks = np.arange(len(class_names))\n",
    "plt.xticks(tick_marks, class_names)\n",
    "plt.yticks(tick_marks, class_names)\n",
    "# create heatmap\n",
    "sns.heatmap(pd.DataFrame(cnf_matrix), annot=True, cmap=\"YlGnBu\" ,fmt='g')\n",
    "ax.xaxis.set_label_position(\"top\")\n",
    "plt.tight_layout()\n",
    "plt.title('Confusion matrix', y=1.1)\n",
    "plt.ylabel('Actual label')\n",
    "plt.xlabel('Predicted label')\n"
   ]
  }
 ],
 "metadata": {
  "kernelspec": {
   "display_name": "Python 3",
   "language": "python",
   "name": "python3"
  },
  "language_info": {
   "codemirror_mode": {
    "name": "ipython",
    "version": 3
   },
   "file_extension": ".py",
   "mimetype": "text/x-python",
   "name": "python",
   "nbconvert_exporter": "python",
   "pygments_lexer": "ipython3",
   "version": "3.11.8"
  }
 },
 "nbformat": 4,
 "nbformat_minor": 2
}
