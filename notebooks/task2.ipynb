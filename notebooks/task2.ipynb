{
 "cells": [
  {
   "cell_type": "markdown",
   "metadata": {},
   "source": [
    "# Task 2\n",
    "## Prediction of m6A sites in all SG-NEx direct RNA-Seq samples \n",
    "<ul>\n",
    "<li> Predict m6A RNA modifications in all samples from the SG-NEx data using our own method </li>\n",
    "<li> Describe the results and compare them across the different cell lines </li>\n",
    "<li> Summarise and visualise your observations </li>\n",
    "</ul>\n",
    "\n",
    "<b>Submission</b>: Describe the results and compare them across the different cell lines. Summarise and visualise your observations."
   ]
  },
  {
   "cell_type": "markdown",
   "metadata": {},
   "source": [
    "# Importing modules and functions"
   ]
  },
  {
   "cell_type": "code",
   "execution_count": 1,
   "metadata": {},
   "outputs": [],
   "source": [
    "import pandas as pd \n",
    "import matplotlib.pyplot as plt\n",
    "import seaborn as sns \n",
    "import joblib\n",
    "import numpy as np\n",
    "import torch\n",
    "import torch.nn as nn\n",
    "import sys\n",
    "import os\n",
    "\n",
    "from torch.utils.data import DataLoader, Dataset\n",
    "from torch.utils.data.dataset import random_split"
   ]
  },
  {
   "cell_type": "code",
   "execution_count": 2,
   "metadata": {},
   "outputs": [],
   "source": [
    "%run \"../code/data_agg_mean.py\""
   ]
  },
  {
   "cell_type": "code",
   "execution_count": 3,
   "metadata": {},
   "outputs": [],
   "source": [
    "%run \"../code/feature_eng_pipeline.py\""
   ]
  },
  {
   "cell_type": "markdown",
   "metadata": {},
   "source": [
    "# Loading and processing the dataset "
   ]
  },
  {
   "cell_type": "code",
   "execution_count": 4,
   "metadata": {},
   "outputs": [],
   "source": [
    "# A549 Lung cell line \n",
    "a549_rep5_df = pd.read_csv(\"../dataset/CSV/A549_replicate5_data.csv\") # change input path accordingly \n",
    "a549_rep6_df = pd.read_csv(\"../dataset/CSV/A549_replicate6_data.csv\")\n",
    "\n",
    "# HCT116 Colon cell line\n",
    "hct116_rep3_df = pd.read_csv(\"../dataset/CSV/HCT116_replicate3_data.csv\")\n",
    "hct116_rep3_run4_df = pd.read_csv(\"../dataset/CSV/HCT116_replicate3_run4_data.csv\")\n",
    "hct116_rep4_run3_df = pd.read_csv(\"../dataset/CSV/HCT116_replicate4_run3_data.csv\")\n",
    "\n",
    "# HepG2 Liver cell line\n",
    "hepg2_rep5_df = pd.read_csv(\"../dataset/CSV/hepG2_replicate5_data.csv\")\n",
    "hepg2_rep6_df = pd.read_csv(\"../dataset/CSV/hepG2_replicate6_data.csv\")\n",
    "\n",
    "# K562 Leukocytes cell line\n",
    "k562_rep4_df = pd.read_csv(\"../dataset/CSV/k562_replicate4_data.csv\")\n",
    "k562_rep5_df = pd.read_csv(\"../dataset/CSV/k562_replicate5_data.csv\")\n",
    "k562_rep6_df = pd.read_csv(\"../dataset/CSV/k562_replicate6_data.csv\")\n",
    "\n",
    "# MCF7 Breast cell line\n",
    "mcf7_rep3_df = pd.read_csv(\"../dataset/CSV/mcf7_replicate3_data.csv\")\n",
    "mcf7_rep4_df = pd.read_csv(\"../dataset/CSV/mcf7_replicate4_data.csv\")\n",
    "\n",
    "# List of orig df \n",
    "orig_df_list = [a549_rep5_df, a549_rep6_df, hct116_rep3_df, hct116_rep3_run4_df, hct116_rep4_run3_df, hepg2_rep5_df,\n",
    "                hepg2_rep6_df, k562_rep4_df, k562_rep5_df, k562_rep6_df, mcf7_rep3_df, mcf7_rep4_df ]"
   ]
  },
  {
   "cell_type": "markdown",
   "metadata": {},
   "source": [
    "Aggregated dataset based on mean "
   ]
  },
  {
   "cell_type": "code",
   "execution_count": 5,
   "metadata": {},
   "outputs": [],
   "source": [
    "# A549 Lung cell line\n",
    "a549_df = data_agg_mean(pd.concat([a549_rep5_df, a549_rep6_df], axis = 0))\n",
    "\n",
    "# HCT116 Colon cell line\n",
    "hct116_df = data_agg_mean(pd.concat([hct116_rep3_df, hct116_rep3_run4_df, hct116_rep4_run3_df], axis = 0))\n",
    "\n",
    "# HepG2 Liver cell line\n",
    "hepg2_df = data_agg_mean(pd.concat([hepg2_rep5_df, hepg2_rep6_df], axis = 0))\n",
    "\n",
    "# K562 Leukocytes cell line\n",
    "k562_df = data_agg_mean(pd.concat([k562_rep4_df, k562_rep5_df, k562_rep6_df], axis = 0))\n",
    "\n",
    "# MCF7 Breast cell line\n",
    "mcf7_df = data_agg_mean(pd.concat([mcf7_rep3_df, mcf7_rep4_df], axis = 0))\n",
    "\n",
    "# List of agg df\n",
    "agg_df_list = [a549_df, hct116_df, hepg2_df, k562_df, mcf7_df]"
   ]
  },
  {
   "cell_type": "markdown",
   "metadata": {},
   "source": [
    "# Loading the NN Model"
   ]
  },
  {
   "cell_type": "code",
   "execution_count": 8,
   "metadata": {},
   "outputs": [
    {
     "name": "stdout",
     "output_type": "stream",
     "text": [
      "Using cpu device\n"
     ]
    }
   ],
   "source": [
    "device = (\n",
    "    \"cuda\"\n",
    "    if torch.cuda.is_available()\n",
    "    else \"mps\"\n",
    "    if torch.backends.mps.is_available()\n",
    "    else \"cpu\"\n",
    ")\n",
    "print(f\"Using {device} device\")"
   ]
  },
  {
   "cell_type": "code",
   "execution_count": 9,
   "metadata": {},
   "outputs": [],
   "source": [
    "class ModNet(nn.Module):\n",
    "    def __init__(self, signal_input_dim):\n",
    "        super(ModNet, self).__init__()\n",
    "\n",
    "        # Read-level Encoder: MLP with two hidden layers\n",
    "        self.encoder = nn.Sequential(\n",
    "            nn.Linear(signal_input_dim, 150),  # Change hidden dimensions as needed\n",
    "            nn.ReLU(),\n",
    "            nn.Linear(150, 32),\n",
    "            nn.ReLU(),\n",
    "            nn.Linear(32, 1)  # Single output for binary classification\n",
    "        )\n",
    "\n",
    "    def forward(self, signal_features):\n",
    "        read_level_probs = self.encoder(signal_features)\n",
    "        return torch.sigmoid(read_level_probs)  # Apply sigmoid for probabilities\n",
    "\n",
    "    def noisy_or_pooling(self, read_level_probs):\n",
    "        \"\"\"\n",
    "        :param read_level_probs: Tensor of shape (batch_size, 1)\n",
    "        :return: Site-level modification probability for each site (batch_size, 1)\n",
    "        \"\"\"\n",
    "        site_level_probs = 1 - torch.prod(1 - read_level_probs, dim=1)\n",
    "        return site_level_probs"
   ]
  },
  {
   "cell_type": "code",
   "execution_count": 10,
   "metadata": {},
   "outputs": [],
   "source": [
    "class NewRNANanoporeDataset(Dataset):\n",
    "    \"\"\"Dataset to predict new (non training) RNA Nanopore data\"\"\"\n",
    "\n",
    "    def __init__(self, df, vectorizer, standardizer):\n",
    "        \"\"\"Initializes instance of class NewRNANanoporeDataset.\n",
    "\n",
    "        Args:\n",
    "            # csv_file (str): Path to the csv file with the nanopore data\n",
    "            Changed to df instead \n",
    "        \"\"\"\n",
    "        \n",
    "        self.df = df\n",
    "        X_df = process_new_data(df, vectorizer, standardizer) \n",
    "\n",
    "        # keep all trigram columns in input dataset\n",
    "        self.X = X_df\n",
    "\n",
    "    def __len__(self):\n",
    "        \"\"\"Returns the size of the dataset\"\"\"\n",
    "        return len(self.X)\n",
    "\n",
    "    def __getitem__(self, idx):\n",
    "    # Handle if idx is a tensor (converting to list if needed)\n",
    "        if isinstance(idx, torch.Tensor):\n",
    "            idx = idx.tolist()\n",
    "\n",
    "        signal_features = self.X.iloc[idx].values  \n",
    "\n",
    "        # Convert to tensors\n",
    "        signal_features = torch.tensor(signal_features, dtype=torch.float32)\n",
    "\n",
    "        return signal_features\n",
    "    \n",
    "    def get_size(self):\n",
    "        return len(self)"
   ]
  },
  {
   "cell_type": "code",
   "execution_count": 46,
   "metadata": {},
   "outputs": [],
   "source": [
    "def predict_on_new_dataset(model, dataset, batch_size=32, device='cuda'):\n",
    "    \"\"\"\n",
    "    Make predictions on new dataset/dataset without labels\n",
    "    \n",
    "    Args:\n",
    "        model: trained PyTorch model\n",
    "        dataset: any unlabelled dataset\n",
    "        batch_size: batch size for DataLoader\n",
    "        device: device to run predictions on\n",
    "    \n",
    "    Returns:\n",
    "        tuple: (predictions, probabilities)\n",
    "    \"\"\"\n",
    "    # Create DataLoader for full dataset\n",
    "    dataloader = DataLoader(dataset, batch_size=batch_size, shuffle=False)\n",
    "    \n",
    "    # Set model to evaluation mode\n",
    "    model.eval()\n",
    "    model = model.to(device)\n",
    "    \n",
    "    # Lists to store predictions\n",
    "    all_predictions = []\n",
    "    all_probs = []\n",
    "    \n",
    "    print(\"Making predictions on dataset...\")\n",
    "    \n",
    "    with torch.no_grad():\n",
    "        for data in dataloader:\n",
    "            signal_features = data\n",
    "            \n",
    "            # Move data to device\n",
    "            signal_features = signal_features.to(device)\n",
    "            \n",
    "            # Forward pass\n",
    "            read_level_probs = model(signal_features)\n",
    "            site_level_probs = model.noisy_or_pooling(read_level_probs) # Remove .squeeze\n",
    "\n",
    "            # Added 28/10\n",
    "            if site_level_probs.dim() > 1:\n",
    "                site_level_probs = site_level_probs.squeeze()\n",
    "            \n",
    "            # Store predictions and labels\n",
    "            predictions = (site_level_probs > 0.5).float()\n",
    "            \n",
    "            all_predictions.append(predictions.cpu())\n",
    "            all_probs.append(site_level_probs.cpu())\n",
    "    \n",
    "    # Filter out zero-dimensional tensors Added 28/10\n",
    "    # all_predictions = [pred for pred in all_predictions if pred.dim() > 0]\n",
    "    # all_probs = [prob for prob in all_probs if prob.dim() > 0]\n",
    "\n",
    "    # Concatenate all predictions and labels\n",
    "    predictions = torch.cat(all_predictions)\n",
    "    probabilities = torch.cat(all_probs)\n",
    "\n",
    "    return predictions, probabilities"
   ]
  },
  {
   "cell_type": "code",
   "execution_count": 12,
   "metadata": {},
   "outputs": [],
   "source": [
    "def load_saved_model(model, save_dir=\"../models/\", pth_file=\"model.pth\"):\n",
    "    \"\"\"\n",
    "    Load a saved model\n",
    "    \n",
    "    Args:\n",
    "        model: Initialized model instance\n",
    "        save_dir (str): directory where model is saved\n",
    "        pth_file (str): name of the model file\n",
    "    \n",
    "    Returns:\n",
    "        model: Loaded model\n",
    "    \"\"\"\n",
    "    # Load checkpoint\n",
    "    model_path = os.path.join(save_dir, pth_file)\n",
    "    checkpoint = torch.load(model_path)\n",
    "    \n",
    "    # Load state dict\n",
    "    model.load_state_dict(checkpoint['model_state_dict'])\n",
    "    \n",
    "    print(f\"Model loaded from {model_path}\")\n",
    "    return model"
   ]
  },
  {
   "cell_type": "markdown",
   "metadata": {},
   "source": [
    "# Descriptive analytics "
   ]
  },
  {
   "cell_type": "markdown",
   "metadata": {},
   "source": [
    "## 1. Illustrate the approach \n",
    "Shows the data processing and analysis approach "
   ]
  },
  {
   "cell_type": "markdown",
   "metadata": {},
   "source": [
    "## 2. Relative location of m6A along mRNAs \n",
    "Lecture mentioned: Metagene plot to show the relative position of detected m6A sites across all transcripts. m6A expected to occur between the coding sequence and 3' UTR "
   ]
  },
  {
   "cell_type": "markdown",
   "metadata": {},
   "source": [
    "## 3. Analyse the features that we are using\n",
    "Which features differ between modified and unmodified sites? Does this look similar across the cell lines? "
   ]
  },
  {
   "cell_type": "code",
   "execution_count": 47,
   "metadata": {},
   "outputs": [
    {
     "name": "stderr",
     "output_type": "stream",
     "text": [
      "C:\\Users\\lisal\\AppData\\Local\\Temp\\ipykernel_40496\\1873487355.py:15: FutureWarning: You are using `torch.load` with `weights_only=False` (the current default value), which uses the default pickle module implicitly. It is possible to construct malicious pickle data which will execute arbitrary code during unpickling (See https://github.com/pytorch/pytorch/blob/main/SECURITY.md#untrusted-models for more details). In a future release, the default value for `weights_only` will be flipped to `True`. This limits the functions that could be executed during unpickling. Arbitrary objects will no longer be allowed to be loaded via this mode unless they are explicitly allowlisted by the user via `torch.serialization.add_safe_globals`. We recommend you start setting `weights_only=True` for any use case where you don't have full control of the loaded file. Please open an issue on GitHub for any issues related to this experimental feature.\n",
      "  checkpoint = torch.load(model_path)\n"
     ]
    },
    {
     "name": "stdout",
     "output_type": "stream",
     "text": [
      "Model loaded from ../models/model3.pth\n",
      "Making predictions on dataset...\n",
      "class_prediction\n",
      "0.0                 1488795\n",
      "1.0                  143782\n",
      "Name: count, dtype: int64\n"
     ]
    }
   ],
   "source": [
    "v,s,a,b = pipeline_nn(pd.read_csv(\"../dataset/mean_with_labels.csv\"))\n",
    "new_dataset = NewRNANanoporeDataset(a549_df, v, s)\n",
    "\n",
    "model = ModNet(signal_input_dim=len(new_dataset.X.columns)) \n",
    "\n",
    "loaded_model = load_saved_model(\n",
    "    model = model,  # Replace with your model class\n",
    "    save_dir=\"../models/\",\n",
    "    pth_file=\"model3.pth\"\n",
    ")\n",
    "\n",
    "# predictions, probabilities = predict_on_new_dataset(\n",
    "#     model=model,\n",
    "#     dataset=new_dataset,\n",
    "#     batch_size=32,\n",
    "#     device=device\n",
    "# )\n",
    "\n",
    "# pred = pd.DataFrame(predictions.numpy().tolist(), columns=[\"class_prediction\"])\n",
    "# print(pred.value_counts())"
   ]
  },
  {
   "cell_type": "code",
   "execution_count": 36,
   "metadata": {},
   "outputs": [],
   "source": [
    "def probability_df(df, model, cell_line_name):\n",
    "    \"\"\"\n",
    "    This function will add two new columns into the original df - labels and cell_line. \n",
    "    The labels column would contain the predicted labels of either 0 - no modification or 1 - modification.\n",
    "    The cell_line column would contain the name of the cell_line that we are looking at.\n",
    "\n",
    "    Inputs:\n",
    "        1. df: dataframe of the pre-processed unlabelled dataset \n",
    "        2. model: the model that we are using for prediction\n",
    "        3. cell_line_name: the name of the cell_line of this dataset \n",
    "\n",
    "    Output:\n",
    "        1. labelled_df: dataframe containing the two new columns - labels and cell_line\n",
    "    \"\"\"\n",
    "\n",
    "    # Update the df with the new label\n",
    "    # pred_labels = (proba[:, 1] >= threshold).astype(int)\n",
    "    labelled_df = df.copy()\n",
    "    predictions, probabilities = predict_on_new_dataset(\n",
    "        model=model,\n",
    "        dataset=new_dataset,\n",
    "        batch_size=32,\n",
    "        device=device\n",
    "    )\n",
    "    labelled_df['labels'] = predictions.numpy().tolist()\n",
    "\n",
    "    # Update the df with the cell line name for use in boxplot \n",
    "    labelled_df[\"cell_line\"] = cell_line_name\n",
    "\n",
    "    return labelled_df"
   ]
  },
  {
   "cell_type": "code",
   "execution_count": 49,
   "metadata": {},
   "outputs": [
    {
     "name": "stdout",
     "output_type": "stream",
     "text": [
      "Making predictions on dataset...\n"
     ]
    }
   ],
   "source": [
    "df_list = [a549_df, hct116_df, hepg2_df, k562_df, mcf7_df]\n",
    "cell_line_list = ['A549', 'HCT116', 'HEPG2', 'K562', 'MCF7']\n",
    "merged_df = probability_df(df_list[0], loaded_model, cell_line_list[0])\n",
    "\n",
    "# for i in range(1,len(df_list)):\n",
    "#     prob_df = probability_df(df_list[i], loaded_model, cell_line_list[i])\n",
    "#     merged_df = pd.concat([prob_df, merged_df], axis = 0) # Something's wrong hereeee "
   ]
  },
  {
   "cell_type": "code",
   "execution_count": 50,
   "metadata": {},
   "outputs": [
    {
     "data": {
      "image/png": "[encoded data removed]",
      "text/plain": [
       "<Figure size 640x480 with 1 Axes>"
      ]
     },
     "metadata": {},
     "output_type": "display_data"
    }
   ],
   "source": [
    "sns.boxplot(x = 'cell_line', y = 'dwelling_time', hue = 'labels', data = merged_df)\n",
    "plt.show()"
   ]
  },
  {
   "cell_type": "markdown",
   "metadata": {},
   "source": [
    "## 4. Compare m6A across all cell lines \n",
    "Do you observe that m6A is similar between cell lines, or different?\n",
    "\n",
    "Which cell lines are more similar?\n",
    "\n",
    "How many sites are shared, how many are unique?"
   ]
  },
  {
   "cell_type": "markdown",
   "metadata": {},
   "source": [
    "## 5. Investigate individual sites/ genes \n",
    "Which genes are highly modified?\n",
    "\n",
    "Which genes show differences across cell lines?\n",
    "\n",
    "Visualise results for individual genes "
   ]
  },
  {
   "cell_type": "code",
   "execution_count": null,
   "metadata": {},
   "outputs": [],
   "source": []
  }
 ],
 "metadata": {
  "kernelspec": {
   "display_name": "Python 3",
   "language": "python",
   "name": "python3"
  },
  "language_info": {
   "codemirror_mode": {
    "name": "ipython",
    "version": 3
   },
   "file_extension": ".py",
   "mimetype": "text/x-python",
   "name": "python",
   "nbconvert_exporter": "python",
   "pygments_lexer": "ipython3",
   "version": "3.12.4"
  }
 },
 "nbformat": 4,
 "nbformat_minor": 2
}
