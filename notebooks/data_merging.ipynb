{
 "cells": [
  {
   "cell_type": "markdown",
   "metadata": {},
   "source": [
    "Data"
   ]
  },
  {
   "cell_type": "code",
   "execution_count": null,
   "metadata": {},
   "outputs": [],
   "source": [
    "import pandas as pd\n",
    "import numpy as np\n",
    "\n",
    "# Load CSV\n",
    "df = pd.read_csv(\"../converted_dataset0.csv\")\n",
    "\n"
   ]
  },
  {
   "cell_type": "markdown",
   "metadata": {},
   "source": [
    "Mean Aggregation by json_position, transcript_name and nucleotide_seq  \n",
    "\n",
    "Returns 9+3 column"
   ]
  },
  {
   "cell_type": "code",
   "execution_count": null,
   "metadata": {},
   "outputs": [],
   "source": [
    "dwelling_cols = ['dwelling_time_min1', 'dwelling_time', 'dwelling_time_plus1']\n",
    "sd_cols = ['sd_min1', 'sd', 'sd_plus1']\n",
    "mean_cols = ['mean_min1', 'mean', 'mean_plus1']\n",
    "\n",
    "# Group by json_position (and optionally transcript_name, nucleotide_seq), then aggregate using mean\n",
    "df_grouped = df.groupby(['json_position', 'transcript_name', 'nucleotide_seq']).agg({\n",
    "    'dwelling_time_min1': 'mean',\n",
    "    'dwelling_time': 'mean',\n",
    "    'dwelling_time_plus1': 'mean',\n",
    "    'sd_min1': 'mean',\n",
    "    'sd': 'mean',\n",
    "    'sd_plus1': 'mean',\n",
    "    'mean_min1': 'mean',\n",
    "    'mean': 'mean',\n",
    "    'mean_plus1': 'mean'\n",
    "}).reset_index()\n",
    "\n",
    "# Merge the values by calculating the mean across each set of three columns for merged values\n",
    "df_grouped['dwelling_time_merged'] = df_grouped[dwelling_cols].mean(axis=1)\n",
    "df_grouped['sd_merged'] = df_grouped[sd_cols].mean(axis=1)\n",
    "df_grouped['mean_merged'] = df_grouped[mean_cols].mean(axis=1)\n",
    "\n",
    "# Keep both the individual flanking position values and the merged values\n",
    "df_final = df_grouped[['transcript_name', 'json_position', 'nucleotide_seq', \n",
    "                       'dwelling_time_min1','sd_min1', 'mean_min1',\n",
    "                        'dwelling_time', 'sd', 'mean',\n",
    "                        'dwelling_time_plus1', 'sd_plus1', 'mean_plus1',\n",
    "                       'dwelling_time_merged', 'sd_merged', 'mean_merged']]\n",
    "\n",
    "# Save the final output to CSV\n",
    "df_final.to_csv('mean_final.csv', index=False)\n",
    "print(df_final.head())\n",
    "print(\"Final output with flanking positions and merged (mean) values saved\")\n"
   ]
  },
  {
   "cell_type": "code",
   "execution_count": null,
   "metadata": {},
   "outputs": [],
   "source": [
    "labels = pd.read_csv(\"../data.info.labelled\")\n",
    "\n",
    "mean_file = pd.read_csv(\"../mean_final.csv\")\n",
    "\n",
    "merge1 = pd.merge(mean_file, labels, how = 'left', left_on = ['transcript_name', 'json_position'], right_on = ['transcript_id', 'transcript_position'])\n",
    "merged_mean = merge1.drop(['transcript_id', 'transcript_position'], axis=1)\n",
    "# print(merge1.head())\n",
    "print(merged_mean.head())\n",
    "merged_mean.to_csv('mean_with_labels.csv', index=False)"
   ]
  },
  {
   "cell_type": "markdown",
   "metadata": {},
   "source": [
    "Median Aggregation by json_position, transcript_name and nucleotide_seq  \n",
    "\n",
    "Returns 9+3 column"
   ]
  },
  {
   "cell_type": "code",
   "execution_count": null,
   "metadata": {},
   "outputs": [],
   "source": [
    "df = pd.read_csv(\"../converted_dataset0.csv\")  # Replace with your actual file name\n",
    "\n",
    "# List of columns to aggregate\n",
    "dwelling_cols = ['dwelling_time_min1', 'dwelling_time', 'dwelling_time_plus1']\n",
    "sd_cols = ['sd_min1', 'sd', 'sd_plus1']\n",
    "mean_cols = ['mean_min1', 'mean', 'mean_plus1']\n",
    "\n",
    "# Group by json_position (and optionally transcript_name, nucleotide_seq), then aggregate using median\n",
    "df_grouped = df.groupby(['json_position', 'transcript_name', 'nucleotide_seq']).agg({\n",
    "    'dwelling_time_min1': 'median',\n",
    "    'dwelling_time': 'median',\n",
    "    'dwelling_time_plus1': 'median',\n",
    "    'sd_min1': 'median',\n",
    "    'sd': 'median',\n",
    "    'sd_plus1': 'median',\n",
    "    'mean_min1': 'median',\n",
    "    'mean': 'median',\n",
    "    'mean_plus1': 'median'\n",
    "}).reset_index()\n",
    "\n",
    "# Merge the values by calculating the median across each set of three columns for merged values\n",
    "df_grouped['dwelling_time_merged_median'] = df_grouped[dwelling_cols].median(axis=1)\n",
    "df_grouped['sd_merged_median'] = df_grouped[sd_cols].median(axis=1)\n",
    "df_grouped['mean_merged_median'] = df_grouped[mean_cols].median(axis=1)\n",
    "\n",
    "# Keep both the individual flanking position values and the merged values\n",
    "df_final = df_grouped[['transcript_name', 'json_position', 'nucleotide_seq', \n",
    "                       'dwelling_time_min1','sd_min1', 'mean_min1',\n",
    "                        'dwelling_time', 'sd', 'mean',\n",
    "                        'dwelling_time_plus1', 'sd_plus1', 'mean_plus1',\n",
    "                       'dwelling_time_merged_median', 'sd_merged_median', 'mean_merged_median']]\n",
    "\n",
    "# Save the final output to CSV\n",
    "df_final.to_csv('median_final.csv', index=False)\n",
    "print(df_final.head())\n",
    "print(\"Final merged output (median) saved\")\n"
   ]
  },
  {
   "cell_type": "code",
   "execution_count": null,
   "metadata": {},
   "outputs": [],
   "source": [
    "med_file = pd.read_csv(\"../median_final.csv\")\n",
    "merge2 = pd.merge(med_file, labels, how = 'left', left_on = ['transcript_name', 'json_position'], right_on = ['transcript_id', 'transcript_position'])\n",
    "merged_med = merge2.drop(['transcript_id', 'transcript_position'], axis=1)\n",
    "# print(merge1.head())\n",
    "print(merged_med.head())\n",
    "merged_med.to_csv('median_with_labels.csv', index=False)"
   ]
  }
 ],
 "metadata": {
  "language_info": {
   "name": "python"
  }
 },
 "nbformat": 4,
 "nbformat_minor": 2
}
