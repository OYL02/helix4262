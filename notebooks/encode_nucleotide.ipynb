{
 "cells": [
  {
   "cell_type": "markdown",
   "metadata": {},
   "source": [
    "# 0. Read Me"
   ]
  },
  {
   "cell_type": "markdown",
   "metadata": {},
   "source": [
    "This notebook serves to attempt to encode `nucleotide_seq` by mapping `{'A': 0, 'G': 1, 'T': 2, 'C': 3, 'U': 4}` so to test it effects as a feature. "
   ]
  },
  {
   "cell_type": "markdown",
   "metadata": {},
   "source": [
    "# 1. Import Libraries "
   ]
  },
  {
   "cell_type": "code",
   "execution_count": 2,
   "metadata": {},
   "outputs": [],
   "source": [
    "import pandas as pd\n",
    "import numpy as np\n",
    "import matplotlib.pyplot as plt\n",
    "\n",
    "from sklearn.model_selection import train_test_split\n",
    "from sklearn.linear_model import LogisticRegression\n",
    "from sklearn.model_selection import GroupShuffleSplit\n",
    "from sklearn.feature_selection import mutual_info_classif\n",
    "from sklearn.metrics import roc_curve, roc_auc_score, confusion_matrix, precision_recall_curve, f1_score, auc, ConfusionMatrixDisplay, classification_report"
   ]
  },
  {
   "cell_type": "markdown",
   "metadata": {},
   "source": [
    "# 2. Loading the dataset "
   ]
  },
  {
   "cell_type": "code",
   "execution_count": 68,
   "metadata": {},
   "outputs": [
    {
     "data": {
      "text/html": [
       "<div>\n",
       "<style scoped>\n",
       "    .dataframe tbody tr th:only-of-type {\n",
       "        vertical-align: middle;\n",
       "    }\n",
       "\n",
       "    .dataframe tbody tr th {\n",
       "        vertical-align: top;\n",
       "    }\n",
       "\n",
       "    .dataframe thead th {\n",
       "        text-align: right;\n",
       "    }\n",
       "</style>\n",
       "<table border=\"1\" class=\"dataframe\">\n",
       "  <thead>\n",
       "    <tr style=\"text-align: right;\">\n",
       "      <th></th>\n",
       "      <th>transcript_name</th>\n",
       "      <th>json_position</th>\n",
       "      <th>nucleotide_seq</th>\n",
       "      <th>dwelling_time_min1</th>\n",
       "      <th>sd_min1</th>\n",
       "      <th>mean_min1</th>\n",
       "      <th>dwelling_time</th>\n",
       "      <th>sd</th>\n",
       "      <th>mean</th>\n",
       "      <th>dwelling_time_plus1</th>\n",
       "      <th>sd_plus1</th>\n",
       "      <th>mean_plus1</th>\n",
       "      <th>dwelling_time_merged</th>\n",
       "      <th>sd_merged</th>\n",
       "      <th>mean_merged</th>\n",
       "      <th>gene_id</th>\n",
       "      <th>label</th>\n",
       "    </tr>\n",
       "  </thead>\n",
       "  <tbody>\n",
       "    <tr>\n",
       "      <th>0</th>\n",
       "      <td>ENST00000361789</td>\n",
       "      <td>3</td>\n",
       "      <td>ATGACCC</td>\n",
       "      <td>0.008473</td>\n",
       "      <td>4.156000</td>\n",
       "      <td>98.027500</td>\n",
       "      <td>0.008403</td>\n",
       "      <td>9.436250</td>\n",
       "      <td>117.550000</td>\n",
       "      <td>0.005935</td>\n",
       "      <td>3.180750</td>\n",
       "      <td>79.072500</td>\n",
       "      <td>0.007603</td>\n",
       "      <td>5.591000</td>\n",
       "      <td>98.216667</td>\n",
       "      <td>ENSG00000198727</td>\n",
       "      <td>0</td>\n",
       "    </tr>\n",
       "    <tr>\n",
       "      <th>1</th>\n",
       "      <td>ENST00000362079</td>\n",
       "      <td>3</td>\n",
       "      <td>ATGACCC</td>\n",
       "      <td>0.005891</td>\n",
       "      <td>4.074295</td>\n",
       "      <td>98.133333</td>\n",
       "      <td>0.006638</td>\n",
       "      <td>9.287051</td>\n",
       "      <td>118.069231</td>\n",
       "      <td>0.006602</td>\n",
       "      <td>3.726708</td>\n",
       "      <td>76.041026</td>\n",
       "      <td>0.006377</td>\n",
       "      <td>5.696018</td>\n",
       "      <td>97.414530</td>\n",
       "      <td>ENSG00000198938</td>\n",
       "      <td>0</td>\n",
       "    </tr>\n",
       "    <tr>\n",
       "      <th>2</th>\n",
       "      <td>ENST00000330439</td>\n",
       "      <td>4</td>\n",
       "      <td>CTGACTG</td>\n",
       "      <td>0.005284</td>\n",
       "      <td>3.684516</td>\n",
       "      <td>111.146774</td>\n",
       "      <td>0.007605</td>\n",
       "      <td>7.364839</td>\n",
       "      <td>121.612903</td>\n",
       "      <td>0.006873</td>\n",
       "      <td>2.795000</td>\n",
       "      <td>91.145161</td>\n",
       "      <td>0.006587</td>\n",
       "      <td>4.614785</td>\n",
       "      <td>107.968280</td>\n",
       "      <td>ENSG00000169715</td>\n",
       "      <td>0</td>\n",
       "    </tr>\n",
       "    <tr>\n",
       "      <th>3</th>\n",
       "      <td>ENST00000380455</td>\n",
       "      <td>5</td>\n",
       "      <td>GGAACCT</td>\n",
       "      <td>0.006620</td>\n",
       "      <td>8.528696</td>\n",
       "      <td>120.826087</td>\n",
       "      <td>0.010325</td>\n",
       "      <td>3.845217</td>\n",
       "      <td>94.739130</td>\n",
       "      <td>0.006050</td>\n",
       "      <td>1.993043</td>\n",
       "      <td>86.426087</td>\n",
       "      <td>0.007665</td>\n",
       "      <td>4.788986</td>\n",
       "      <td>100.663768</td>\n",
       "      <td>ENSG00000124588</td>\n",
       "      <td>0</td>\n",
       "    </tr>\n",
       "    <tr>\n",
       "      <th>4</th>\n",
       "      <td>ENST00000387347</td>\n",
       "      <td>5</td>\n",
       "      <td>TAAACCT</td>\n",
       "      <td>0.007985</td>\n",
       "      <td>2.421880</td>\n",
       "      <td>104.497000</td>\n",
       "      <td>0.007066</td>\n",
       "      <td>4.059900</td>\n",
       "      <td>98.490000</td>\n",
       "      <td>0.005260</td>\n",
       "      <td>3.336200</td>\n",
       "      <td>79.857000</td>\n",
       "      <td>0.006770</td>\n",
       "      <td>3.272660</td>\n",
       "      <td>94.281333</td>\n",
       "      <td>ENSG00000210082</td>\n",
       "      <td>0</td>\n",
       "    </tr>\n",
       "  </tbody>\n",
       "</table>\n",
       "</div>"
      ],
      "text/plain": [
       "   transcript_name  json_position nucleotide_seq  dwelling_time_min1  \\\n",
       "0  ENST00000361789              3        ATGACCC            0.008473   \n",
       "1  ENST00000362079              3        ATGACCC            0.005891   \n",
       "2  ENST00000330439              4        CTGACTG            0.005284   \n",
       "3  ENST00000380455              5        GGAACCT            0.006620   \n",
       "4  ENST00000387347              5        TAAACCT            0.007985   \n",
       "\n",
       "    sd_min1   mean_min1  dwelling_time        sd        mean  \\\n",
       "0  4.156000   98.027500       0.008403  9.436250  117.550000   \n",
       "1  4.074295   98.133333       0.006638  9.287051  118.069231   \n",
       "2  3.684516  111.146774       0.007605  7.364839  121.612903   \n",
       "3  8.528696  120.826087       0.010325  3.845217   94.739130   \n",
       "4  2.421880  104.497000       0.007066  4.059900   98.490000   \n",
       "\n",
       "   dwelling_time_plus1  sd_plus1  mean_plus1  dwelling_time_merged  sd_merged  \\\n",
       "0             0.005935  3.180750   79.072500              0.007603   5.591000   \n",
       "1             0.006602  3.726708   76.041026              0.006377   5.696018   \n",
       "2             0.006873  2.795000   91.145161              0.006587   4.614785   \n",
       "3             0.006050  1.993043   86.426087              0.007665   4.788986   \n",
       "4             0.005260  3.336200   79.857000              0.006770   3.272660   \n",
       "\n",
       "   mean_merged          gene_id  label  \n",
       "0    98.216667  ENSG00000198727      0  \n",
       "1    97.414530  ENSG00000198938      0  \n",
       "2   107.968280  ENSG00000169715      0  \n",
       "3   100.663768  ENSG00000124588      0  \n",
       "4    94.281333  ENSG00000210082      0  "
      ]
     },
     "execution_count": 68,
     "metadata": {},
     "output_type": "execute_result"
    }
   ],
   "source": [
    "mean_with_label_df = pd.read_csv(\"../dataset/mean_with_labels.csv\")\n",
    "mean_with_label_df.head()"
   ]
  },
  {
   "cell_type": "markdown",
   "metadata": {},
   "source": [
    "# 3. One hot encoding of nucleotide_seq"
   ]
  },
  {
   "cell_type": "code",
   "execution_count": 5,
   "metadata": {},
   "outputs": [
    {
     "name": "stdout",
     "output_type": "stream",
     "text": [
      "{'A': 0, 'G': 1, 'T': 2, 'C': 3, 'U': 4}\n"
     ]
    }
   ],
   "source": [
    "mapping = {nucleotide: idx for idx, nucleotide in enumerate('AGTCU')}\n",
    "print(mapping)"
   ]
  },
  {
   "cell_type": "code",
   "execution_count": 6,
   "metadata": {},
   "outputs": [],
   "source": [
    "def encode_sequence(seq):\n",
    "    return [mapping[nucleotide] for nucleotide in seq]"
   ]
  },
  {
   "cell_type": "code",
   "execution_count": 69,
   "metadata": {},
   "outputs": [
    {
     "data": {
      "text/plain": [
       "(121838, 17)"
      ]
     },
     "execution_count": 69,
     "metadata": {},
     "output_type": "execute_result"
    }
   ],
   "source": [
    "mean_with_label_df.shape"
   ]
  },
  {
   "cell_type": "code",
   "execution_count": 7,
   "metadata": {},
   "outputs": [
    {
     "data": {
      "text/html": [
       "<div>\n",
       "<style scoped>\n",
       "    .dataframe tbody tr th:only-of-type {\n",
       "        vertical-align: middle;\n",
       "    }\n",
       "\n",
       "    .dataframe tbody tr th {\n",
       "        vertical-align: top;\n",
       "    }\n",
       "\n",
       "    .dataframe thead th {\n",
       "        text-align: right;\n",
       "    }\n",
       "</style>\n",
       "<table border=\"1\" class=\"dataframe\">\n",
       "  <thead>\n",
       "    <tr style=\"text-align: right;\">\n",
       "      <th></th>\n",
       "      <th>transcript_name</th>\n",
       "      <th>json_position</th>\n",
       "      <th>nucleotide_seq</th>\n",
       "      <th>dwelling_time_min1</th>\n",
       "      <th>sd_min1</th>\n",
       "      <th>mean_min1</th>\n",
       "      <th>dwelling_time</th>\n",
       "      <th>sd</th>\n",
       "      <th>mean</th>\n",
       "      <th>dwelling_time_plus1</th>\n",
       "      <th>sd_plus1</th>\n",
       "      <th>mean_plus1</th>\n",
       "      <th>dwelling_time_merged</th>\n",
       "      <th>sd_merged</th>\n",
       "      <th>mean_merged</th>\n",
       "      <th>gene_id</th>\n",
       "      <th>label</th>\n",
       "    </tr>\n",
       "  </thead>\n",
       "  <tbody>\n",
       "    <tr>\n",
       "      <th>0</th>\n",
       "      <td>ENST00000361789</td>\n",
       "      <td>3</td>\n",
       "      <td>[0, 2, 1, 0, 3, 3, 3]</td>\n",
       "      <td>0.008473</td>\n",
       "      <td>4.156000</td>\n",
       "      <td>98.027500</td>\n",
       "      <td>0.008403</td>\n",
       "      <td>9.436250</td>\n",
       "      <td>117.550000</td>\n",
       "      <td>0.005935</td>\n",
       "      <td>3.180750</td>\n",
       "      <td>79.072500</td>\n",
       "      <td>0.007603</td>\n",
       "      <td>5.591000</td>\n",
       "      <td>98.216667</td>\n",
       "      <td>ENSG00000198727</td>\n",
       "      <td>0</td>\n",
       "    </tr>\n",
       "    <tr>\n",
       "      <th>1</th>\n",
       "      <td>ENST00000362079</td>\n",
       "      <td>3</td>\n",
       "      <td>[0, 2, 1, 0, 3, 3, 3]</td>\n",
       "      <td>0.005891</td>\n",
       "      <td>4.074295</td>\n",
       "      <td>98.133333</td>\n",
       "      <td>0.006638</td>\n",
       "      <td>9.287051</td>\n",
       "      <td>118.069231</td>\n",
       "      <td>0.006602</td>\n",
       "      <td>3.726708</td>\n",
       "      <td>76.041026</td>\n",
       "      <td>0.006377</td>\n",
       "      <td>5.696018</td>\n",
       "      <td>97.414530</td>\n",
       "      <td>ENSG00000198938</td>\n",
       "      <td>0</td>\n",
       "    </tr>\n",
       "    <tr>\n",
       "      <th>2</th>\n",
       "      <td>ENST00000330439</td>\n",
       "      <td>4</td>\n",
       "      <td>[3, 2, 1, 0, 3, 2, 1]</td>\n",
       "      <td>0.005284</td>\n",
       "      <td>3.684516</td>\n",
       "      <td>111.146774</td>\n",
       "      <td>0.007605</td>\n",
       "      <td>7.364839</td>\n",
       "      <td>121.612903</td>\n",
       "      <td>0.006873</td>\n",
       "      <td>2.795000</td>\n",
       "      <td>91.145161</td>\n",
       "      <td>0.006587</td>\n",
       "      <td>4.614785</td>\n",
       "      <td>107.968280</td>\n",
       "      <td>ENSG00000169715</td>\n",
       "      <td>0</td>\n",
       "    </tr>\n",
       "    <tr>\n",
       "      <th>3</th>\n",
       "      <td>ENST00000380455</td>\n",
       "      <td>5</td>\n",
       "      <td>[1, 1, 0, 0, 3, 3, 2]</td>\n",
       "      <td>0.006620</td>\n",
       "      <td>8.528696</td>\n",
       "      <td>120.826087</td>\n",
       "      <td>0.010325</td>\n",
       "      <td>3.845217</td>\n",
       "      <td>94.739130</td>\n",
       "      <td>0.006050</td>\n",
       "      <td>1.993043</td>\n",
       "      <td>86.426087</td>\n",
       "      <td>0.007665</td>\n",
       "      <td>4.788986</td>\n",
       "      <td>100.663768</td>\n",
       "      <td>ENSG00000124588</td>\n",
       "      <td>0</td>\n",
       "    </tr>\n",
       "    <tr>\n",
       "      <th>4</th>\n",
       "      <td>ENST00000387347</td>\n",
       "      <td>5</td>\n",
       "      <td>[2, 0, 0, 0, 3, 3, 2]</td>\n",
       "      <td>0.007985</td>\n",
       "      <td>2.421880</td>\n",
       "      <td>104.497000</td>\n",
       "      <td>0.007066</td>\n",
       "      <td>4.059900</td>\n",
       "      <td>98.490000</td>\n",
       "      <td>0.005260</td>\n",
       "      <td>3.336200</td>\n",
       "      <td>79.857000</td>\n",
       "      <td>0.006770</td>\n",
       "      <td>3.272660</td>\n",
       "      <td>94.281333</td>\n",
       "      <td>ENSG00000210082</td>\n",
       "      <td>0</td>\n",
       "    </tr>\n",
       "  </tbody>\n",
       "</table>\n",
       "</div>"
      ],
      "text/plain": [
       "   transcript_name  json_position         nucleotide_seq  dwelling_time_min1  \\\n",
       "0  ENST00000361789              3  [0, 2, 1, 0, 3, 3, 3]            0.008473   \n",
       "1  ENST00000362079              3  [0, 2, 1, 0, 3, 3, 3]            0.005891   \n",
       "2  ENST00000330439              4  [3, 2, 1, 0, 3, 2, 1]            0.005284   \n",
       "3  ENST00000380455              5  [1, 1, 0, 0, 3, 3, 2]            0.006620   \n",
       "4  ENST00000387347              5  [2, 0, 0, 0, 3, 3, 2]            0.007985   \n",
       "\n",
       "    sd_min1   mean_min1  dwelling_time        sd        mean  \\\n",
       "0  4.156000   98.027500       0.008403  9.436250  117.550000   \n",
       "1  4.074295   98.133333       0.006638  9.287051  118.069231   \n",
       "2  3.684516  111.146774       0.007605  7.364839  121.612903   \n",
       "3  8.528696  120.826087       0.010325  3.845217   94.739130   \n",
       "4  2.421880  104.497000       0.007066  4.059900   98.490000   \n",
       "\n",
       "   dwelling_time_plus1  sd_plus1  mean_plus1  dwelling_time_merged  sd_merged  \\\n",
       "0             0.005935  3.180750   79.072500              0.007603   5.591000   \n",
       "1             0.006602  3.726708   76.041026              0.006377   5.696018   \n",
       "2             0.006873  2.795000   91.145161              0.006587   4.614785   \n",
       "3             0.006050  1.993043   86.426087              0.007665   4.788986   \n",
       "4             0.005260  3.336200   79.857000              0.006770   3.272660   \n",
       "\n",
       "   mean_merged          gene_id  label  \n",
       "0    98.216667  ENSG00000198727      0  \n",
       "1    97.414530  ENSG00000198938      0  \n",
       "2   107.968280  ENSG00000169715      0  \n",
       "3   100.663768  ENSG00000124588      0  \n",
       "4    94.281333  ENSG00000210082      0  "
      ]
     },
     "execution_count": 7,
     "metadata": {},
     "output_type": "execute_result"
    }
   ],
   "source": [
    "mean_with_label_df['nucleotide_seq'] = mean_with_label_df['nucleotide_seq'].apply(encode_sequence)\n",
    "mean_with_label_df.head()"
   ]
  },
  {
   "cell_type": "code",
   "execution_count": 8,
   "metadata": {},
   "outputs": [
    {
     "data": {
      "text/html": [
       "<div>\n",
       "<style scoped>\n",
       "    .dataframe tbody tr th:only-of-type {\n",
       "        vertical-align: middle;\n",
       "    }\n",
       "\n",
       "    .dataframe tbody tr th {\n",
       "        vertical-align: top;\n",
       "    }\n",
       "\n",
       "    .dataframe thead th {\n",
       "        text-align: right;\n",
       "    }\n",
       "</style>\n",
       "<table border=\"1\" class=\"dataframe\">\n",
       "  <thead>\n",
       "    <tr style=\"text-align: right;\">\n",
       "      <th></th>\n",
       "      <th>transcript_name</th>\n",
       "      <th>json_position</th>\n",
       "      <th>nucleotide_seq</th>\n",
       "      <th>dwelling_time_min1</th>\n",
       "      <th>sd_min1</th>\n",
       "      <th>mean_min1</th>\n",
       "      <th>dwelling_time</th>\n",
       "      <th>sd</th>\n",
       "      <th>mean</th>\n",
       "      <th>dwelling_time_plus1</th>\n",
       "      <th>sd_plus1</th>\n",
       "      <th>mean_plus1</th>\n",
       "      <th>dwelling_time_merged</th>\n",
       "      <th>sd_merged</th>\n",
       "      <th>mean_merged</th>\n",
       "      <th>gene_id</th>\n",
       "      <th>label</th>\n",
       "      <th>pos_min1</th>\n",
       "      <th>pos</th>\n",
       "      <th>pos_plus1</th>\n",
       "    </tr>\n",
       "  </thead>\n",
       "  <tbody>\n",
       "    <tr>\n",
       "      <th>0</th>\n",
       "      <td>ENST00000361789</td>\n",
       "      <td>3</td>\n",
       "      <td>[0, 2, 1, 0, 3, 3, 3]</td>\n",
       "      <td>0.008473</td>\n",
       "      <td>4.156000</td>\n",
       "      <td>98.027500</td>\n",
       "      <td>0.008403</td>\n",
       "      <td>9.436250</td>\n",
       "      <td>117.550000</td>\n",
       "      <td>0.005935</td>\n",
       "      <td>3.180750</td>\n",
       "      <td>79.072500</td>\n",
       "      <td>0.007603</td>\n",
       "      <td>5.591000</td>\n",
       "      <td>98.216667</td>\n",
       "      <td>ENSG00000198727</td>\n",
       "      <td>0</td>\n",
       "      <td>1</td>\n",
       "      <td>0</td>\n",
       "      <td>3</td>\n",
       "    </tr>\n",
       "    <tr>\n",
       "      <th>1</th>\n",
       "      <td>ENST00000362079</td>\n",
       "      <td>3</td>\n",
       "      <td>[0, 2, 1, 0, 3, 3, 3]</td>\n",
       "      <td>0.005891</td>\n",
       "      <td>4.074295</td>\n",
       "      <td>98.133333</td>\n",
       "      <td>0.006638</td>\n",
       "      <td>9.287051</td>\n",
       "      <td>118.069231</td>\n",
       "      <td>0.006602</td>\n",
       "      <td>3.726708</td>\n",
       "      <td>76.041026</td>\n",
       "      <td>0.006377</td>\n",
       "      <td>5.696018</td>\n",
       "      <td>97.414530</td>\n",
       "      <td>ENSG00000198938</td>\n",
       "      <td>0</td>\n",
       "      <td>1</td>\n",
       "      <td>0</td>\n",
       "      <td>3</td>\n",
       "    </tr>\n",
       "    <tr>\n",
       "      <th>2</th>\n",
       "      <td>ENST00000330439</td>\n",
       "      <td>4</td>\n",
       "      <td>[3, 2, 1, 0, 3, 2, 1]</td>\n",
       "      <td>0.005284</td>\n",
       "      <td>3.684516</td>\n",
       "      <td>111.146774</td>\n",
       "      <td>0.007605</td>\n",
       "      <td>7.364839</td>\n",
       "      <td>121.612903</td>\n",
       "      <td>0.006873</td>\n",
       "      <td>2.795000</td>\n",
       "      <td>91.145161</td>\n",
       "      <td>0.006587</td>\n",
       "      <td>4.614785</td>\n",
       "      <td>107.968280</td>\n",
       "      <td>ENSG00000169715</td>\n",
       "      <td>0</td>\n",
       "      <td>1</td>\n",
       "      <td>0</td>\n",
       "      <td>3</td>\n",
       "    </tr>\n",
       "    <tr>\n",
       "      <th>3</th>\n",
       "      <td>ENST00000380455</td>\n",
       "      <td>5</td>\n",
       "      <td>[1, 1, 0, 0, 3, 3, 2]</td>\n",
       "      <td>0.006620</td>\n",
       "      <td>8.528696</td>\n",
       "      <td>120.826087</td>\n",
       "      <td>0.010325</td>\n",
       "      <td>3.845217</td>\n",
       "      <td>94.739130</td>\n",
       "      <td>0.006050</td>\n",
       "      <td>1.993043</td>\n",
       "      <td>86.426087</td>\n",
       "      <td>0.007665</td>\n",
       "      <td>4.788986</td>\n",
       "      <td>100.663768</td>\n",
       "      <td>ENSG00000124588</td>\n",
       "      <td>0</td>\n",
       "      <td>0</td>\n",
       "      <td>0</td>\n",
       "      <td>3</td>\n",
       "    </tr>\n",
       "    <tr>\n",
       "      <th>4</th>\n",
       "      <td>ENST00000387347</td>\n",
       "      <td>5</td>\n",
       "      <td>[2, 0, 0, 0, 3, 3, 2]</td>\n",
       "      <td>0.007985</td>\n",
       "      <td>2.421880</td>\n",
       "      <td>104.497000</td>\n",
       "      <td>0.007066</td>\n",
       "      <td>4.059900</td>\n",
       "      <td>98.490000</td>\n",
       "      <td>0.005260</td>\n",
       "      <td>3.336200</td>\n",
       "      <td>79.857000</td>\n",
       "      <td>0.006770</td>\n",
       "      <td>3.272660</td>\n",
       "      <td>94.281333</td>\n",
       "      <td>ENSG00000210082</td>\n",
       "      <td>0</td>\n",
       "      <td>0</td>\n",
       "      <td>0</td>\n",
       "      <td>3</td>\n",
       "    </tr>\n",
       "  </tbody>\n",
       "</table>\n",
       "</div>"
      ],
      "text/plain": [
       "   transcript_name  json_position         nucleotide_seq  dwelling_time_min1  \\\n",
       "0  ENST00000361789              3  [0, 2, 1, 0, 3, 3, 3]            0.008473   \n",
       "1  ENST00000362079              3  [0, 2, 1, 0, 3, 3, 3]            0.005891   \n",
       "2  ENST00000330439              4  [3, 2, 1, 0, 3, 2, 1]            0.005284   \n",
       "3  ENST00000380455              5  [1, 1, 0, 0, 3, 3, 2]            0.006620   \n",
       "4  ENST00000387347              5  [2, 0, 0, 0, 3, 3, 2]            0.007985   \n",
       "\n",
       "    sd_min1   mean_min1  dwelling_time        sd        mean  \\\n",
       "0  4.156000   98.027500       0.008403  9.436250  117.550000   \n",
       "1  4.074295   98.133333       0.006638  9.287051  118.069231   \n",
       "2  3.684516  111.146774       0.007605  7.364839  121.612903   \n",
       "3  8.528696  120.826087       0.010325  3.845217   94.739130   \n",
       "4  2.421880  104.497000       0.007066  4.059900   98.490000   \n",
       "\n",
       "   dwelling_time_plus1  sd_plus1  mean_plus1  dwelling_time_merged  sd_merged  \\\n",
       "0             0.005935  3.180750   79.072500              0.007603   5.591000   \n",
       "1             0.006602  3.726708   76.041026              0.006377   5.696018   \n",
       "2             0.006873  2.795000   91.145161              0.006587   4.614785   \n",
       "3             0.006050  1.993043   86.426087              0.007665   4.788986   \n",
       "4             0.005260  3.336200   79.857000              0.006770   3.272660   \n",
       "\n",
       "   mean_merged          gene_id  label  pos_min1  pos  pos_plus1  \n",
       "0    98.216667  ENSG00000198727      0         1    0          3  \n",
       "1    97.414530  ENSG00000198938      0         1    0          3  \n",
       "2   107.968280  ENSG00000169715      0         1    0          3  \n",
       "3   100.663768  ENSG00000124588      0         0    0          3  \n",
       "4    94.281333  ENSG00000210082      0         0    0          3  "
      ]
     },
     "execution_count": 8,
     "metadata": {},
     "output_type": "execute_result"
    }
   ],
   "source": [
    "mean_with_label_df['pos_min1'] = mean_with_label_df['nucleotide_seq'].apply(lambda x: x[2])\n",
    "mean_with_label_df['pos'] = mean_with_label_df['nucleotide_seq'].apply(lambda x: x[3])\n",
    "mean_with_label_df['pos_plus1'] = mean_with_label_df['nucleotide_seq'].apply(lambda x: x[4])\n",
    "mean_with_label_df.head()"
   ]
  },
  {
   "cell_type": "markdown",
   "metadata": {},
   "source": [
    "# 4. Train-test split"
   ]
  },
  {
   "cell_type": "code",
   "execution_count": 9,
   "metadata": {},
   "outputs": [],
   "source": [
    "unique_genes = mean_with_label_df['gene_id'].unique()\n",
    "train_genes, test_genes = train_test_split(unique_genes, test_size = 0.2, random_state = 42)\n",
    "train_df = mean_with_label_df[mean_with_label_df['gene_id'].isin(train_genes)]\n",
    "test_df = mean_with_label_df[mean_with_label_df['gene_id'].isin(test_genes)]\n",
    "\n",
    "features_column = [mean_with_label_df.columns[1]]\n",
    "features_column = features_column + list(mean_with_label_df.columns[3:])\n",
    "features_column.remove('gene_id')\n",
    "features_column.remove('label')\n",
    "label_column = mean_with_label_df.columns[-4]\n",
    "\n",
    "Xtrain = train_df[features_column]\n",
    "ytrain = train_df[label_column]\n",
    "Xtest = test_df[features_column]\n",
    "ytest = test_df[label_column]"
   ]
  },
  {
   "cell_type": "markdown",
   "metadata": {},
   "source": [
    "# 4a. Feature Selection"
   ]
  },
  {
   "cell_type": "code",
   "execution_count": 10,
   "metadata": {},
   "outputs": [
    {
     "data": {
      "image/png": "[encoded data removed]",
      "text/plain": [
       "<Figure size 1000x600 with 1 Axes>"
      ]
     },
     "metadata": {},
     "output_type": "display_data"
    }
   ],
   "source": [
    "# Feature Selection by Filter method\n",
    "# Information Gain\n",
    "importances = mutual_info_classif(Xtrain, ytrain)\n",
    "feat_importances = pd.Series(importances, Xtrain.columns)\n",
    "\n",
    "# Select the top 10 features\n",
    "top_10_feats = feat_importances.nlargest(10)\n",
    "\n",
    "plt.figure(figsize=(10, 6))\n",
    "top_10_feats.plot(kind='barh', color='teal')\n",
    "plt.show()"
   ]
  },
  {
   "cell_type": "code",
   "execution_count": 74,
   "metadata": {},
   "outputs": [],
   "source": [
    "# # features_list = ['pos_min1', 'pos_plus1', 'pos']\n",
    "# features_list = ['sd', 'mean', 'sd_min1']\n",
    "features_list = ['json_position', 'mean_plus1', 'sd_min1', 'sd', 'mean', 'mean_merged', 'mean_min1', 'sd_merged', 'pos_plus1', 'pos_min1']"
   ]
  },
  {
   "cell_type": "markdown",
   "metadata": {},
   "source": [
    "# 5. Model Training"
   ]
  },
  {
   "cell_type": "code",
   "execution_count": 75,
   "metadata": {},
   "outputs": [
    {
     "name": "stdout",
     "output_type": "stream",
     "text": [
      "[[0.98399672 0.01600328]\n",
      " [0.93770605 0.06229395]\n",
      " [0.94446691 0.05553309]\n",
      " ...\n",
      " [0.96562468 0.03437532]\n",
      " [0.9766717  0.0233283 ]\n",
      " [0.98237053 0.01762947]]\n"
     ]
    },
    {
     "name": "stderr",
     "output_type": "stream",
     "text": [
      "c:\\Users\\lisal\\AppData\\Local\\Programs\\Python\\Python312\\Lib\\site-packages\\sklearn\\linear_model\\_logistic.py:469: ConvergenceWarning: lbfgs failed to converge (status=1):\n",
      "STOP: TOTAL NO. of ITERATIONS REACHED LIMIT.\n",
      "\n",
      "Increase the number of iterations (max_iter) or scale the data as shown in:\n",
      "    https://scikit-learn.org/stable/modules/preprocessing.html\n",
      "Please also refer to the documentation for alternative solver options:\n",
      "    https://scikit-learn.org/stable/modules/linear_model.html#logistic-regression\n",
      "  n_iter_i = _check_optimize_result(\n"
     ]
    }
   ],
   "source": [
    "logreg = LogisticRegression()\n",
    "logreg.fit(Xtrain.loc[:, features_list], ytrain)\n",
    "y_pred = logreg.predict(Xtest.loc[:, features_list])\n",
    "y_pred_prob = logreg.predict_proba(Xtest.loc[:, features_list])\n",
    "print(y_pred_prob)"
   ]
  },
  {
   "cell_type": "markdown",
   "metadata": {},
   "source": [
    "# 6. Model Evaluation"
   ]
  },
  {
   "cell_type": "markdown",
   "metadata": {},
   "source": [
    "## Classification Report "
   ]
  },
  {
   "cell_type": "code",
   "execution_count": 42,
   "metadata": {},
   "outputs": [
    {
     "name": "stdout",
     "output_type": "stream",
     "text": [
      "                     precision    recall  f1-score   support\n",
      "\n",
      "no m6a modification       0.96      1.00      0.98     25378\n",
      "   m6a modification       0.00      0.00      0.00      1174\n",
      "\n",
      "           accuracy                           0.96     26552\n",
      "          macro avg       0.48      0.50      0.49     26552\n",
      "       weighted avg       0.91      0.96      0.93     26552\n",
      "\n"
     ]
    },
    {
     "name": "stderr",
     "output_type": "stream",
     "text": [
      "c:\\Users\\lisal\\AppData\\Local\\Programs\\Python\\Python312\\Lib\\site-packages\\sklearn\\metrics\\_classification.py:1531: UndefinedMetricWarning: Precision is ill-defined and being set to 0.0 in labels with no predicted samples. Use `zero_division` parameter to control this behavior.\n",
      "  _warn_prf(average, modifier, f\"{metric.capitalize()} is\", len(result))\n",
      "c:\\Users\\lisal\\AppData\\Local\\Programs\\Python\\Python312\\Lib\\site-packages\\sklearn\\metrics\\_classification.py:1531: UndefinedMetricWarning: Precision is ill-defined and being set to 0.0 in labels with no predicted samples. Use `zero_division` parameter to control this behavior.\n",
      "  _warn_prf(average, modifier, f\"{metric.capitalize()} is\", len(result))\n",
      "c:\\Users\\lisal\\AppData\\Local\\Programs\\Python\\Python312\\Lib\\site-packages\\sklearn\\metrics\\_classification.py:1531: UndefinedMetricWarning: Precision is ill-defined and being set to 0.0 in labels with no predicted samples. Use `zero_division` parameter to control this behavior.\n",
      "  _warn_prf(average, modifier, f\"{metric.capitalize()} is\", len(result))\n"
     ]
    }
   ],
   "source": [
    "target_names = ['no m6a modification', 'm6a modification']\n",
    "print(classification_report(ytest, y_pred, target_names=target_names))"
   ]
  },
  {
   "cell_type": "markdown",
   "metadata": {},
   "source": [
    "## ROC-AUC Score and plot"
   ]
  },
  {
   "cell_type": "code",
   "execution_count": 76,
   "metadata": {},
   "outputs": [
    {
     "name": "stdout",
     "output_type": "stream",
     "text": [
      "ROC-AUC score: 0.661\n"
     ]
    }
   ],
   "source": [
    "y_pred_prob = y_pred_prob[:, 1] # probabilities that the model assigned to predict m6A\n",
    "lr_auc = roc_auc_score(ytest, y_pred_prob, average = \"micro\")\n",
    "print(f\"ROC-AUC score: {round(lr_auc, 3)}\")"
   ]
  },
  {
   "cell_type": "code",
   "execution_count": 77,
   "metadata": {},
   "outputs": [
    {
     "name": "stdout",
     "output_type": "stream",
     "text": [
      "[0.00000000e+00 3.94042084e-05 2.04901884e-03 ... 9.91173457e-01\n",
      " 9.91173457e-01 1.00000000e+00]\n",
      "[0.         0.         0.         ... 0.99914821 1.         1.        ]\n"
     ]
    },
    {
     "data": {
      "image/png": "[encoded data removed]",
      "text/plain": [
       "<Figure size 800x550 with 1 Axes>"
      ]
     },
     "metadata": {},
     "output_type": "display_data"
    }
   ],
   "source": [
    "# AUC-ROC Plot \n",
    "lr_fpr, lr_tpr, thresholds = roc_curve(ytest, y_pred_prob) \n",
    "# thresholds[0] represents no instances being predicted, arbitrarily set to np.inf\n",
    "print(lr_fpr)\n",
    "print(lr_tpr)\n",
    "\n",
    "# to get the no skill line\n",
    "ns_probs = [0 for _ in range(len(ytest))]\n",
    "ns_fpr, ns_tpr, thresholds = roc_curve(ytest, ns_probs)\n",
    "\n",
    "#plotting\n",
    "plt.plot(ns_fpr, ns_tpr, linestyle = '--', label = \"No Skill\")\n",
    "plt.plot(lr_fpr, lr_tpr, marker = '.', label = \"Logistic\")\n",
    "plt.xlabel('False Positive Rate')\n",
    "plt.ylabel('True Positive Rate')\n",
    "plt.legend()\n",
    "plt.show()"
   ]
  },
  {
   "cell_type": "markdown",
   "metadata": {},
   "source": [
    "## Precision-Recall Curve "
   ]
  },
  {
   "cell_type": "code",
   "execution_count": 59,
   "metadata": {},
   "outputs": [
    {
     "data": {
      "image/png": "[encoded data removed]",
      "text/plain": [
       "<Figure size 800x550 with 1 Axes>"
      ]
     },
     "metadata": {},
     "output_type": "display_data"
    }
   ],
   "source": [
    "# !pip install yellowbrick\n",
    "from yellowbrick.classifier import precision_recall_curve\n",
    "viz = precision_recall_curve(LogisticRegression(max_iter = 1000), Xtrain, ytrain, Xtest, ytest)"
   ]
  },
  {
   "cell_type": "markdown",
   "metadata": {},
   "source": [
    "## 7. Model Evaluation of dataset1\n"
   ]
  },
  {
   "cell_type": "code",
   "execution_count": 80,
   "metadata": {},
   "outputs": [
    {
     "data": {
      "text/plain": [
       "(1171940, 12)"
      ]
     },
     "execution_count": 80,
     "metadata": {},
     "output_type": "execute_result"
    }
   ],
   "source": [
    "dataset1 = pd.read_csv(\"../dataset/dataset1.csv\")\n",
    "# dataset1_test = dataset1.loc[:,features_list]\n",
    "# dataset1_test.shape\n",
    "dataset1.shape"
   ]
  },
  {
   "cell_type": "code",
   "execution_count": 53,
   "metadata": {},
   "outputs": [
    {
     "name": "stdout",
     "output_type": "stream",
     "text": [
      "(7907952, 2)\n"
     ]
    }
   ],
   "source": [
    "dataset1_pred_prob = logreg.predict_proba(dataset1_test)\n",
    "print(dataset1_pred_prob.shape)"
   ]
  }
 ],
 "metadata": {
  "kernelspec": {
   "display_name": "Python 3",
   "language": "python",
   "name": "python3"
  },
  "language_info": {
   "codemirror_mode": {
    "name": "ipython",
    "version": 3
   },
   "file_extension": ".py",
   "mimetype": "text/x-python",
   "name": "python",
   "nbconvert_exporter": "python",
   "pygments_lexer": "ipython3",
   "version": "3.12.4"
  }
 },
 "nbformat": 4,
 "nbformat_minor": 2
}
